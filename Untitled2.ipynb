{
 "cells": [
  {
   "cell_type": "code",
   "execution_count": 1,
   "id": "d9a8fcb8-0be5-45f4-8b4d-7144b60f4ade",
   "metadata": {},
   "outputs": [
    {
     "name": "stdout",
     "output_type": "stream",
     "text": [
      "Assalamualaikum\n"
     ]
    }
   ],
   "source": [
    "print(\"Assalamualaikum\")"
   ]
  },
  {
   "cell_type": "markdown",
   "id": "810b83c4-b392-4f92-bb04-643eef083e20",
   "metadata": {},
   "source": [
    "this is a test"
   ]
  },
  {
   "cell_type": "code",
   "execution_count": 2,
   "id": "9844f68c-664e-4c94-a11d-e6a370350b8e",
   "metadata": {},
   "outputs": [],
   "source": [
    "##test"
   ]
  },
  {
   "cell_type": "markdown",
   "id": "e57dcdd0-c395-48d4-ac03-5f032618d060",
   "metadata": {},
   "source": [
    "#how to increase markdown size"
   ]
  },
  {
   "cell_type": "code",
   "execution_count": 3,
   "id": "f38864b8-d1d9-434d-ad67-336cd96b352b",
   "metadata": {},
   "outputs": [],
   "source": [
    "### 3hash"
   ]
  },
  {
   "cell_type": "code",
   "execution_count": null,
   "id": "aef2ce4a-cc4f-4dd8-848d-048008ae1ff9",
   "metadata": {},
   "outputs": [],
   "source": []
  }
 ],
 "metadata": {
  "kernelspec": {
   "display_name": "Python 3",
   "language": "python",
   "name": "python3"
  },
  "language_info": {
   "codemirror_mode": {
    "name": "ipython",
    "version": 3
   },
   "file_extension": ".py",
   "mimetype": "text/x-python",
   "name": "python",
   "nbconvert_exporter": "python",
   "pygments_lexer": "ipython3",
   "version": "3.8.8"
  }
 },
 "nbformat": 4,
 "nbformat_minor": 5
}
